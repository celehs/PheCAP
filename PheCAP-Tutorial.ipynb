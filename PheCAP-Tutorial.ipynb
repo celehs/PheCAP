{
 "cells": [
  {
   "cell_type": "markdown",
   "id": "43dad5f7",
   "metadata": {},
   "source": [
    "Install PheCAP"
   ]
  },
  {
   "cell_type": "code",
   "execution_count": 1,
   "id": "fbd21644",
   "metadata": {
    "scrolled": true
   },
   "outputs": [
    {
     "name": "stderr",
     "output_type": "stream",
     "text": [
      "Updating HTML index of packages in '.Library'\n",
      "\n",
      "Making 'packages.html' ...\n",
      " done\n",
      "\n",
      "Downloading GitHub repo celehs/PheCAP@tutorial\n",
      "\n"
     ]
    },
    {
     "name": "stdout",
     "output_type": "stream",
     "text": [
      "\n",
      "\u001b[32m✔\u001b[39m  \u001b[90mchecking for file ‘/tmp/RtmpnqsEzD/remotes1b7e2e50c2d1/celehs-PheCAP-da18434/DESCRIPTION’\u001b[39m\u001b[36m\u001b[39m\n",
      "\u001b[90m─\u001b[39m\u001b[90m  \u001b[39m\u001b[90mpreparing ‘PheCAP’:\u001b[39m\u001b[36m\u001b[39m\n",
      "\u001b[32m✔\u001b[39m  \u001b[90mchecking DESCRIPTION meta-information\u001b[39m\u001b[36m\u001b[39m\n",
      "\u001b[90m─\u001b[39m\u001b[90m  \u001b[39m\u001b[90minstalling the package to process help pages\u001b[39m\u001b[36m\u001b[39m\n",
      "\u001b[90m─\u001b[39m\u001b[90m  \u001b[39m\u001b[90msaving partial Rd database\u001b[39m\u001b[36m\u001b[36m (6.7s)\u001b[36m\u001b[39m\n",
      "\u001b[90m─\u001b[39m\u001b[90m  \u001b[39m\u001b[90mchecking for LF line-endings in source and make files and shell scripts\u001b[39m\u001b[36m\u001b[39m\n",
      "\u001b[90m─\u001b[39m\u001b[90m  \u001b[39m\u001b[90mchecking for empty or unneeded directories\u001b[39m\u001b[36m\u001b[39m\n",
      "\u001b[90m─\u001b[39m\u001b[90m  \u001b[39m\u001b[90mbuilding ‘PheCAP_1.2.2.tar.gz’\u001b[39m\u001b[36m\u001b[39m\n",
      "   \n",
      "\r"
     ]
    }
   ],
   "source": [
    "rm(list=ls())\n",
    "install.packages(\"devtools\")\n",
    "devtools::install_github(\"https://github.com/celehs/PheCAP/\", ref=\"tutorial\", force=T)\n",
    "library(PheCAP)"
   ]
  },
  {
   "cell_type": "markdown",
   "id": "10e43c93",
   "metadata": {},
   "source": [
    "Load data"
   ]
  },
  {
   "cell_type": "code",
   "execution_count": 2,
   "id": "60097475",
   "metadata": {
    "scrolled": true
   },
   "outputs": [
    {
     "data": {
      "text/plain": [
       "PheCAP Data\n",
       "Feature: 10000 observations of 587 variables\n",
       "Label: 119 yes, 62 no, 9819 missing\n",
       "Size of training samples: 109\n",
       "Size of validation samples: 72"
      ]
     },
     "metadata": {},
     "output_type": "display_data"
    }
   ],
   "source": [
    "data(ehr_data)\n",
    "data <- PhecapData(ehr_data, \"healthcare_utilization\", \"label\", 0.4, patient_id = \"patient_id\")\n",
    "data"
   ]
  },
  {
   "cell_type": "code",
   "execution_count": 3,
   "id": "45adc3c9",
   "metadata": {
    "scrolled": true
   },
   "outputs": [
    {
     "data": {
      "text/html": [
       "<table class=\"dataframe\">\n",
       "<caption>A data.frame: 6 × 588</caption>\n",
       "<thead>\n",
       "\t<tr><th></th><th scope=col>label</th><th scope=col>main_ICD</th><th scope=col>main_NLP</th><th scope=col>healthcare_utilization</th><th scope=col>COD1</th><th scope=col>COD2</th><th scope=col>COD3</th><th scope=col>COD4</th><th scope=col>COD5</th><th scope=col>COD6</th><th scope=col>⋯</th><th scope=col>NLP565</th><th scope=col>NLP566</th><th scope=col>NLP567</th><th scope=col>NLP568</th><th scope=col>NLP569</th><th scope=col>NLP570</th><th scope=col>NLP571</th><th scope=col>NLP572</th><th scope=col>NLP573</th><th scope=col>NLP574</th></tr>\n",
       "\t<tr><th></th><th scope=col>&lt;dbl&gt;</th><th scope=col>&lt;int&gt;</th><th scope=col>&lt;int&gt;</th><th scope=col>&lt;int&gt;</th><th scope=col>&lt;int&gt;</th><th scope=col>&lt;int&gt;</th><th scope=col>&lt;int&gt;</th><th scope=col>&lt;int&gt;</th><th scope=col>&lt;int&gt;</th><th scope=col>&lt;int&gt;</th><th scope=col>⋯</th><th scope=col>&lt;int&gt;</th><th scope=col>&lt;int&gt;</th><th scope=col>&lt;int&gt;</th><th scope=col>&lt;int&gt;</th><th scope=col>&lt;int&gt;</th><th scope=col>&lt;int&gt;</th><th scope=col>&lt;int&gt;</th><th scope=col>&lt;int&gt;</th><th scope=col>&lt;int&gt;</th><th scope=col>&lt;int&gt;</th></tr>\n",
       "</thead>\n",
       "<tbody>\n",
       "\t<tr><th scope=row>1</th><td>NA</td><td> 1</td><td>  0</td><td> 25</td><td> 1</td><td> 1</td><td> 1</td><td>1</td><td>1</td><td> 1</td><td>⋯</td><td>0</td><td>0</td><td> 0</td><td>0</td><td>0</td><td>0</td><td>0</td><td>0</td><td>0</td><td>0</td></tr>\n",
       "\t<tr><th scope=row>2</th><td>NA</td><td>41</td><td>157</td><td>187</td><td>71</td><td>31</td><td>29</td><td>2</td><td>2</td><td>11</td><td>⋯</td><td>0</td><td>2</td><td> 0</td><td>1</td><td>0</td><td>0</td><td>0</td><td>0</td><td>0</td><td>0</td></tr>\n",
       "\t<tr><th scope=row>3</th><td>NA</td><td> 4</td><td>  1</td><td>138</td><td>20</td><td>11</td><td> 6</td><td>0</td><td>0</td><td>13</td><td>⋯</td><td>0</td><td>0</td><td>31</td><td>0</td><td>0</td><td>0</td><td>0</td><td>0</td><td>0</td><td>0</td></tr>\n",
       "\t<tr><th scope=row>4</th><td>NA</td><td> 0</td><td>  0</td><td> 67</td><td> 1</td><td> 1</td><td> 1</td><td>0</td><td>3</td><td> 6</td><td>⋯</td><td>0</td><td>0</td><td> 0</td><td>1</td><td>0</td><td>0</td><td>0</td><td>0</td><td>0</td><td>0</td></tr>\n",
       "\t<tr><th scope=row>5</th><td>NA</td><td> 0</td><td>  0</td><td>  9</td><td> 1</td><td> 0</td><td> 0</td><td>0</td><td>0</td><td> 0</td><td>⋯</td><td>0</td><td>0</td><td> 0</td><td>1</td><td>0</td><td>0</td><td>0</td><td>0</td><td>0</td><td>0</td></tr>\n",
       "\t<tr><th scope=row>6</th><td>NA</td><td> 4</td><td>  2</td><td>  4</td><td> 0</td><td> 0</td><td> 1</td><td>0</td><td>1</td><td> 0</td><td>⋯</td><td>0</td><td>0</td><td> 0</td><td>2</td><td>0</td><td>0</td><td>0</td><td>0</td><td>0</td><td>0</td></tr>\n",
       "</tbody>\n",
       "</table>\n"
      ],
      "text/latex": [
       "A data.frame: 6 × 588\n",
       "\\begin{tabular}{r|lllllllllllllllllllll}\n",
       "  & label & main\\_ICD & main\\_NLP & healthcare\\_utilization & COD1 & COD2 & COD3 & COD4 & COD5 & COD6 & ⋯ & NLP565 & NLP566 & NLP567 & NLP568 & NLP569 & NLP570 & NLP571 & NLP572 & NLP573 & NLP574\\\\\n",
       "  & <dbl> & <int> & <int> & <int> & <int> & <int> & <int> & <int> & <int> & <int> & ⋯ & <int> & <int> & <int> & <int> & <int> & <int> & <int> & <int> & <int> & <int>\\\\\n",
       "\\hline\n",
       "\t1 & NA &  1 &   0 &  25 &  1 &  1 &  1 & 1 & 1 &  1 & ⋯ & 0 & 0 &  0 & 0 & 0 & 0 & 0 & 0 & 0 & 0\\\\\n",
       "\t2 & NA & 41 & 157 & 187 & 71 & 31 & 29 & 2 & 2 & 11 & ⋯ & 0 & 2 &  0 & 1 & 0 & 0 & 0 & 0 & 0 & 0\\\\\n",
       "\t3 & NA &  4 &   1 & 138 & 20 & 11 &  6 & 0 & 0 & 13 & ⋯ & 0 & 0 & 31 & 0 & 0 & 0 & 0 & 0 & 0 & 0\\\\\n",
       "\t4 & NA &  0 &   0 &  67 &  1 &  1 &  1 & 0 & 3 &  6 & ⋯ & 0 & 0 &  0 & 1 & 0 & 0 & 0 & 0 & 0 & 0\\\\\n",
       "\t5 & NA &  0 &   0 &   9 &  1 &  0 &  0 & 0 & 0 &  0 & ⋯ & 0 & 0 &  0 & 1 & 0 & 0 & 0 & 0 & 0 & 0\\\\\n",
       "\t6 & NA &  4 &   2 &   4 &  0 &  0 &  1 & 0 & 1 &  0 & ⋯ & 0 & 0 &  0 & 2 & 0 & 0 & 0 & 0 & 0 & 0\\\\\n",
       "\\end{tabular}\n"
      ],
      "text/markdown": [
       "\n",
       "A data.frame: 6 × 588\n",
       "\n",
       "| <!--/--> | label &lt;dbl&gt; | main_ICD &lt;int&gt; | main_NLP &lt;int&gt; | healthcare_utilization &lt;int&gt; | COD1 &lt;int&gt; | COD2 &lt;int&gt; | COD3 &lt;int&gt; | COD4 &lt;int&gt; | COD5 &lt;int&gt; | COD6 &lt;int&gt; | ⋯ ⋯ | NLP565 &lt;int&gt; | NLP566 &lt;int&gt; | NLP567 &lt;int&gt; | NLP568 &lt;int&gt; | NLP569 &lt;int&gt; | NLP570 &lt;int&gt; | NLP571 &lt;int&gt; | NLP572 &lt;int&gt; | NLP573 &lt;int&gt; | NLP574 &lt;int&gt; |\n",
       "|---|---|---|---|---|---|---|---|---|---|---|---|---|---|---|---|---|---|---|---|---|---|\n",
       "| 1 | NA |  1 |   0 |  25 |  1 |  1 |  1 | 1 | 1 |  1 | ⋯ | 0 | 0 |  0 | 0 | 0 | 0 | 0 | 0 | 0 | 0 |\n",
       "| 2 | NA | 41 | 157 | 187 | 71 | 31 | 29 | 2 | 2 | 11 | ⋯ | 0 | 2 |  0 | 1 | 0 | 0 | 0 | 0 | 0 | 0 |\n",
       "| 3 | NA |  4 |   1 | 138 | 20 | 11 |  6 | 0 | 0 | 13 | ⋯ | 0 | 0 | 31 | 0 | 0 | 0 | 0 | 0 | 0 | 0 |\n",
       "| 4 | NA |  0 |   0 |  67 |  1 |  1 |  1 | 0 | 3 |  6 | ⋯ | 0 | 0 |  0 | 1 | 0 | 0 | 0 | 0 | 0 | 0 |\n",
       "| 5 | NA |  0 |   0 |   9 |  1 |  0 |  0 | 0 | 0 |  0 | ⋯ | 0 | 0 |  0 | 1 | 0 | 0 | 0 | 0 | 0 | 0 |\n",
       "| 6 | NA |  4 |   2 |   4 |  0 |  0 |  1 | 0 | 1 |  0 | ⋯ | 0 | 0 |  0 | 2 | 0 | 0 | 0 | 0 | 0 | 0 |\n",
       "\n"
      ],
      "text/plain": [
       "  label main_ICD main_NLP healthcare_utilization COD1 COD2 COD3 COD4 COD5 COD6\n",
       "1 NA     1         0       25                     1    1    1   1    1     1  \n",
       "2 NA    41       157      187                    71   31   29   2    2    11  \n",
       "3 NA     4         1      138                    20   11    6   0    0    13  \n",
       "4 NA     0         0       67                     1    1    1   0    3     6  \n",
       "5 NA     0         0        9                     1    0    0   0    0     0  \n",
       "6 NA     4         2        4                     0    0    1   0    1     0  \n",
       "  ⋯ NLP565 NLP566 NLP567 NLP568 NLP569 NLP570 NLP571 NLP572 NLP573 NLP574\n",
       "1 ⋯ 0      0       0     0      0      0      0      0      0      0     \n",
       "2 ⋯ 0      2       0     1      0      0      0      0      0      0     \n",
       "3 ⋯ 0      0      31     0      0      0      0      0      0      0     \n",
       "4 ⋯ 0      0       0     1      0      0      0      0      0      0     \n",
       "5 ⋯ 0      0       0     1      0      0      0      0      0      0     \n",
       "6 ⋯ 0      0       0     2      0      0      0      0      0      0     "
      ]
     },
     "metadata": {},
     "output_type": "display_data"
    }
   ],
   "source": [
    "head(data$frame)"
   ]
  },
  {
   "cell_type": "markdown",
   "id": "8dccdede",
   "metadata": {},
   "source": [
    "Specify the surrogate used for surrogate-assisted feature extraction (SAFE). The typical way is to specify a main ICD code, a main NLP CUI, as well as their combination. In some cases one may want to define surrogate through lab test. The default lower_cutoff is 1, and the default upper_cutoff is 10. Feel free to change the cutoffs based on domain knowledge."
   ]
  },
  {
   "cell_type": "code",
   "execution_count": 4,
   "id": "071b73a7",
   "metadata": {
    "scrolled": true
   },
   "outputs": [],
   "source": [
    "surrogates <- list(\n",
    "  PhecapSurrogate(\n",
    "    variable_names = \"main_ICD\",\n",
    "    lower_cutoff = 1, upper_cutoff = 10),\n",
    "  PhecapSurrogate(\n",
    "    variable_names = \"main_NLP\",\n",
    "    lower_cutoff = 1, upper_cutoff = 10),\n",
    "  PhecapSurrogate(\n",
    "    variable_names = c(\"main_ICD\", \"main_NLP\"),\n",
    "    lower_cutoff = 1, upper_cutoff = 10))"
   ]
  },
  {
   "cell_type": "markdown",
   "id": "f0f0fc7f",
   "metadata": {},
   "source": [
    "Run surrogate-assisted feature extraction (SAFE) and show result."
   ]
  },
  {
   "cell_type": "code",
   "execution_count": 5,
   "id": "1ffa44cf",
   "metadata": {
    "scrolled": true
   },
   "outputs": [
    {
     "data": {
      "text/plain": [
       "   user  system elapsed \n",
       "206.984   0.052 207.053 "
      ]
     },
     "metadata": {},
     "output_type": "display_data"
    }
   ],
   "source": [
    "system.time(feature_selected <- phecap_run_feature_extraction(data, surrogates))"
   ]
  },
  {
   "cell_type": "code",
   "execution_count": 6,
   "id": "4ba94a3c",
   "metadata": {
    "scrolled": true
   },
   "outputs": [
    {
     "data": {
      "text/plain": [
       "Feature(s) selected by surrogate-assisted feature extraction (SAFE)\n",
       "[1] \"main_ICD\" \"main_NLP\" \"NLP56\"    \"NLP93\"    \"NLP160\"   \"NLP161\"   \"NLP306\"  \n",
       "[8] \"NLP403\"   \"NLP536\"  "
      ]
     },
     "metadata": {},
     "output_type": "display_data"
    }
   ],
   "source": [
    "feature_selected"
   ]
  },
  {
   "cell_type": "markdown",
   "id": "c8801f86",
   "metadata": {},
   "source": [
    "Train phenotyping model and show the fitted model, with the AUC on the training set as well as random splits"
   ]
  },
  {
   "cell_type": "code",
   "execution_count": 8,
   "id": "60c3b8b1",
   "metadata": {
    "scrolled": true
   },
   "outputs": [
    {
     "data": {
      "text/plain": [
       "Phenotyping model:\n",
       "$lasso_bic\n",
       "           (Intercept)               main_ICD               main_NLP \n",
       "             0.8165615              2.3789729              2.7761557 \n",
       "     main_ICD&main_NLP healthcare_utilization                  NLP56 \n",
       "            -1.6390179             -1.3316767              0.0000000 \n",
       "                 NLP93                 NLP160                 NLP161 \n",
       "            -1.6091941              0.0000000              0.0000000 \n",
       "                NLP306                 NLP403                 NLP536 \n",
       "             0.0000000              0.0000000              0.9910775 \n",
       "\n",
       "AUC on training data: 0.988 \n",
       "Average AUC on random splits: 0.971 "
      ]
     },
     "metadata": {},
     "output_type": "display_data"
    }
   ],
   "source": [
    "suppressWarnings(model <- phecap_train_phenotyping_model(data, surrogates, feature_selected))\n",
    "model"
   ]
  },
  {
   "cell_type": "markdown",
   "id": "e1f37821",
   "metadata": {},
   "source": [
    "Try a different model"
   ]
  },
  {
   "cell_type": "code",
   "execution_count": 12,
   "id": "2ca7ba70",
   "metadata": {
    "scrolled": true
   },
   "outputs": [
    {
     "name": "stderr",
     "output_type": "stream",
     "text": [
      "also installing the dependency ‘proxy’\n",
      "\n",
      "\n",
      "Updating HTML index of packages in '.Library'\n",
      "\n",
      "Making 'packages.html' ...\n",
      " done\n",
      "\n"
     ]
    },
    {
     "data": {
      "text/plain": [
       "Phenotyping model:\n",
       "$svm\n",
       "\n",
       "Call:\n",
       "best.svm(x = x, y = y1, gamma = c(0.2, 1, 5)/ncol(x), cost = 4^(-5L:5L), \n",
       "    kernel = \"radial\", type = \"C-classification\", probability = TRUE)\n",
       "\n",
       "\n",
       "Parameters:\n",
       "   SVM-Type:  C-classification \n",
       " SVM-Kernel:  radial \n",
       "       cost:  4 \n",
       "\n",
       "Number of Support Vectors:  48\n",
       "\n",
       "\n",
       "AUC on training data: 0.988 \n",
       "Average AUC on random splits: 0.967 "
      ]
     },
     "metadata": {},
     "output_type": "display_data"
    }
   ],
   "source": [
    "install.packages(\"e1071\")\n",
    "library(e1071)\n",
    "suppressWarnings(model2 <- phecap_train_phenotyping_model(data, surrogates, feature_selected, method=\"svm\"))\n",
    "model2"
   ]
  },
  {
   "cell_type": "markdown",
   "id": "e16fcea0",
   "metadata": {},
   "source": [
    "Validate phenotyping model using validation label"
   ]
  },
  {
   "cell_type": "code",
   "execution_count": 21,
   "id": "c6dd69c5",
   "metadata": {},
   "outputs": [],
   "source": [
    "options(warn=-1)"
   ]
  },
  {
   "cell_type": "code",
   "execution_count": 22,
   "id": "692a6984",
   "metadata": {
    "scrolled": true
   },
   "outputs": [
    {
     "data": {
      "text/plain": [
       "AUC on validation data: 0.867 \n",
       "AUC on training data: 0.988 \n",
       "Average AUC on random splits: 0.971 "
      ]
     },
     "metadata": {},
     "output_type": "display_data"
    }
   ],
   "source": [
    "validation <- phecap_validate_phenotyping_model(data, model)\n",
    "validation"
   ]
  },
  {
   "cell_type": "markdown",
   "id": "c3a67412",
   "metadata": {},
   "source": [
    "Show ROC table"
   ]
  },
  {
   "cell_type": "code",
   "execution_count": 23,
   "id": "77884d05",
   "metadata": {
    "scrolled": true
   },
   "outputs": [
    {
     "data": {
      "text/html": [
       "<table class=\"dataframe\">\n",
       "<caption>A matrix: 22 × 7 of type dbl</caption>\n",
       "<thead>\n",
       "\t<tr><th scope=col>cutoff</th><th scope=col>pos.rate</th><th scope=col>FPR</th><th scope=col>TPR</th><th scope=col>PPV</th><th scope=col>NPV</th><th scope=col>F1</th></tr>\n",
       "</thead>\n",
       "<tbody>\n",
       "\t<tr><td>1.000</td><td>0.007</td><td>0.000</td><td>0.245</td><td>1.000</td><td>0.353</td><td>0.394</td></tr>\n",
       "\t<tr><td>0.988</td><td>0.319</td><td>0.000</td><td>0.356</td><td>1.000</td><td>0.390</td><td>0.526</td></tr>\n",
       "\t<tr><td>0.975</td><td>0.361</td><td>0.000</td><td>0.468</td><td>1.000</td><td>0.436</td><td>0.637</td></tr>\n",
       "\t<tr><td>0.966</td><td>0.375</td><td>0.048</td><td>0.545</td><td>0.965</td><td>0.463</td><td>0.697</td></tr>\n",
       "\t<tr><td>0.959</td><td>0.375</td><td>0.048</td><td>0.603</td><td>0.969</td><td>0.497</td><td>0.743</td></tr>\n",
       "\t<tr><td>0.936</td><td>0.458</td><td>0.048</td><td>0.661</td><td>0.971</td><td>0.536</td><td>0.786</td></tr>\n",
       "\t<tr><td>0.861</td><td>0.542</td><td>0.048</td><td>0.718</td><td>0.973</td><td>0.582</td><td>0.827</td></tr>\n",
       "\t<tr><td>0.785</td><td>0.569</td><td>0.048</td><td>0.776</td><td>0.975</td><td>0.637</td><td>0.864</td></tr>\n",
       "\t<tr><td>0.772</td><td>0.583</td><td>0.095</td><td>0.784</td><td>0.952</td><td>0.633</td><td>0.860</td></tr>\n",
       "\t<tr><td>0.770</td><td>0.583</td><td>0.095</td><td>0.784</td><td>0.952</td><td>0.633</td><td>0.860</td></tr>\n",
       "\t<tr><td>0.767</td><td>0.583</td><td>0.095</td><td>0.784</td><td>0.952</td><td>0.633</td><td>0.860</td></tr>\n",
       "\t<tr><td>0.764</td><td>0.583</td><td>0.095</td><td>0.784</td><td>0.952</td><td>0.633</td><td>0.860</td></tr>\n",
       "\t<tr><td>0.762</td><td>0.597</td><td>0.143</td><td>0.785</td><td>0.930</td><td>0.621</td><td>0.851</td></tr>\n",
       "\t<tr><td>0.756</td><td>0.597</td><td>0.143</td><td>0.789</td><td>0.931</td><td>0.626</td><td>0.854</td></tr>\n",
       "\t<tr><td>0.750</td><td>0.597</td><td>0.143</td><td>0.793</td><td>0.931</td><td>0.630</td><td>0.856</td></tr>\n",
       "\t<tr><td>0.742</td><td>0.611</td><td>0.143</td><td>0.797</td><td>0.931</td><td>0.635</td><td>0.859</td></tr>\n",
       "\t<tr><td>0.732</td><td>0.611</td><td>0.143</td><td>0.801</td><td>0.932</td><td>0.640</td><td>0.861</td></tr>\n",
       "\t<tr><td>0.718</td><td>0.625</td><td>0.190</td><td>0.804</td><td>0.911</td><td>0.630</td><td>0.854</td></tr>\n",
       "\t<tr><td>0.696</td><td>0.625</td><td>0.190</td><td>0.804</td><td>0.911</td><td>0.630</td><td>0.854</td></tr>\n",
       "\t<tr><td>0.674</td><td>0.625</td><td>0.190</td><td>0.804</td><td>0.911</td><td>0.630</td><td>0.854</td></tr>\n",
       "\t<tr><td>0.652</td><td>0.625</td><td>0.190</td><td>0.804</td><td>0.911</td><td>0.630</td><td>0.854</td></tr>\n",
       "\t<tr><td>0.631</td><td>0.625</td><td>0.190</td><td>0.804</td><td>0.911</td><td>0.630</td><td>0.854</td></tr>\n",
       "</tbody>\n",
       "</table>\n"
      ],
      "text/latex": [
       "A matrix: 22 × 7 of type dbl\n",
       "\\begin{tabular}{lllllll}\n",
       " cutoff & pos.rate & FPR & TPR & PPV & NPV & F1\\\\\n",
       "\\hline\n",
       "\t 1.000 & 0.007 & 0.000 & 0.245 & 1.000 & 0.353 & 0.394\\\\\n",
       "\t 0.988 & 0.319 & 0.000 & 0.356 & 1.000 & 0.390 & 0.526\\\\\n",
       "\t 0.975 & 0.361 & 0.000 & 0.468 & 1.000 & 0.436 & 0.637\\\\\n",
       "\t 0.966 & 0.375 & 0.048 & 0.545 & 0.965 & 0.463 & 0.697\\\\\n",
       "\t 0.959 & 0.375 & 0.048 & 0.603 & 0.969 & 0.497 & 0.743\\\\\n",
       "\t 0.936 & 0.458 & 0.048 & 0.661 & 0.971 & 0.536 & 0.786\\\\\n",
       "\t 0.861 & 0.542 & 0.048 & 0.718 & 0.973 & 0.582 & 0.827\\\\\n",
       "\t 0.785 & 0.569 & 0.048 & 0.776 & 0.975 & 0.637 & 0.864\\\\\n",
       "\t 0.772 & 0.583 & 0.095 & 0.784 & 0.952 & 0.633 & 0.860\\\\\n",
       "\t 0.770 & 0.583 & 0.095 & 0.784 & 0.952 & 0.633 & 0.860\\\\\n",
       "\t 0.767 & 0.583 & 0.095 & 0.784 & 0.952 & 0.633 & 0.860\\\\\n",
       "\t 0.764 & 0.583 & 0.095 & 0.784 & 0.952 & 0.633 & 0.860\\\\\n",
       "\t 0.762 & 0.597 & 0.143 & 0.785 & 0.930 & 0.621 & 0.851\\\\\n",
       "\t 0.756 & 0.597 & 0.143 & 0.789 & 0.931 & 0.626 & 0.854\\\\\n",
       "\t 0.750 & 0.597 & 0.143 & 0.793 & 0.931 & 0.630 & 0.856\\\\\n",
       "\t 0.742 & 0.611 & 0.143 & 0.797 & 0.931 & 0.635 & 0.859\\\\\n",
       "\t 0.732 & 0.611 & 0.143 & 0.801 & 0.932 & 0.640 & 0.861\\\\\n",
       "\t 0.718 & 0.625 & 0.190 & 0.804 & 0.911 & 0.630 & 0.854\\\\\n",
       "\t 0.696 & 0.625 & 0.190 & 0.804 & 0.911 & 0.630 & 0.854\\\\\n",
       "\t 0.674 & 0.625 & 0.190 & 0.804 & 0.911 & 0.630 & 0.854\\\\\n",
       "\t 0.652 & 0.625 & 0.190 & 0.804 & 0.911 & 0.630 & 0.854\\\\\n",
       "\t 0.631 & 0.625 & 0.190 & 0.804 & 0.911 & 0.630 & 0.854\\\\\n",
       "\\end{tabular}\n"
      ],
      "text/markdown": [
       "\n",
       "A matrix: 22 × 7 of type dbl\n",
       "\n",
       "| cutoff | pos.rate | FPR | TPR | PPV | NPV | F1 |\n",
       "|---|---|---|---|---|---|---|\n",
       "| 1.000 | 0.007 | 0.000 | 0.245 | 1.000 | 0.353 | 0.394 |\n",
       "| 0.988 | 0.319 | 0.000 | 0.356 | 1.000 | 0.390 | 0.526 |\n",
       "| 0.975 | 0.361 | 0.000 | 0.468 | 1.000 | 0.436 | 0.637 |\n",
       "| 0.966 | 0.375 | 0.048 | 0.545 | 0.965 | 0.463 | 0.697 |\n",
       "| 0.959 | 0.375 | 0.048 | 0.603 | 0.969 | 0.497 | 0.743 |\n",
       "| 0.936 | 0.458 | 0.048 | 0.661 | 0.971 | 0.536 | 0.786 |\n",
       "| 0.861 | 0.542 | 0.048 | 0.718 | 0.973 | 0.582 | 0.827 |\n",
       "| 0.785 | 0.569 | 0.048 | 0.776 | 0.975 | 0.637 | 0.864 |\n",
       "| 0.772 | 0.583 | 0.095 | 0.784 | 0.952 | 0.633 | 0.860 |\n",
       "| 0.770 | 0.583 | 0.095 | 0.784 | 0.952 | 0.633 | 0.860 |\n",
       "| 0.767 | 0.583 | 0.095 | 0.784 | 0.952 | 0.633 | 0.860 |\n",
       "| 0.764 | 0.583 | 0.095 | 0.784 | 0.952 | 0.633 | 0.860 |\n",
       "| 0.762 | 0.597 | 0.143 | 0.785 | 0.930 | 0.621 | 0.851 |\n",
       "| 0.756 | 0.597 | 0.143 | 0.789 | 0.931 | 0.626 | 0.854 |\n",
       "| 0.750 | 0.597 | 0.143 | 0.793 | 0.931 | 0.630 | 0.856 |\n",
       "| 0.742 | 0.611 | 0.143 | 0.797 | 0.931 | 0.635 | 0.859 |\n",
       "| 0.732 | 0.611 | 0.143 | 0.801 | 0.932 | 0.640 | 0.861 |\n",
       "| 0.718 | 0.625 | 0.190 | 0.804 | 0.911 | 0.630 | 0.854 |\n",
       "| 0.696 | 0.625 | 0.190 | 0.804 | 0.911 | 0.630 | 0.854 |\n",
       "| 0.674 | 0.625 | 0.190 | 0.804 | 0.911 | 0.630 | 0.854 |\n",
       "| 0.652 | 0.625 | 0.190 | 0.804 | 0.911 | 0.630 | 0.854 |\n",
       "| 0.631 | 0.625 | 0.190 | 0.804 | 0.911 | 0.630 | 0.854 |\n",
       "\n"
      ],
      "text/plain": [
       "      cutoff pos.rate FPR   TPR   PPV   NPV   F1   \n",
       " [1,] 1.000  0.007    0.000 0.245 1.000 0.353 0.394\n",
       " [2,] 0.988  0.319    0.000 0.356 1.000 0.390 0.526\n",
       " [3,] 0.975  0.361    0.000 0.468 1.000 0.436 0.637\n",
       " [4,] 0.966  0.375    0.048 0.545 0.965 0.463 0.697\n",
       " [5,] 0.959  0.375    0.048 0.603 0.969 0.497 0.743\n",
       " [6,] 0.936  0.458    0.048 0.661 0.971 0.536 0.786\n",
       " [7,] 0.861  0.542    0.048 0.718 0.973 0.582 0.827\n",
       " [8,] 0.785  0.569    0.048 0.776 0.975 0.637 0.864\n",
       " [9,] 0.772  0.583    0.095 0.784 0.952 0.633 0.860\n",
       "[10,] 0.770  0.583    0.095 0.784 0.952 0.633 0.860\n",
       "[11,] 0.767  0.583    0.095 0.784 0.952 0.633 0.860\n",
       "[12,] 0.764  0.583    0.095 0.784 0.952 0.633 0.860\n",
       "[13,] 0.762  0.597    0.143 0.785 0.930 0.621 0.851\n",
       "[14,] 0.756  0.597    0.143 0.789 0.931 0.626 0.854\n",
       "[15,] 0.750  0.597    0.143 0.793 0.931 0.630 0.856\n",
       "[16,] 0.742  0.611    0.143 0.797 0.931 0.635 0.859\n",
       "[17,] 0.732  0.611    0.143 0.801 0.932 0.640 0.861\n",
       "[18,] 0.718  0.625    0.190 0.804 0.911 0.630 0.854\n",
       "[19,] 0.696  0.625    0.190 0.804 0.911 0.630 0.854\n",
       "[20,] 0.674  0.625    0.190 0.804 0.911 0.630 0.854\n",
       "[21,] 0.652  0.625    0.190 0.804 0.911 0.630 0.854\n",
       "[22,] 0.631  0.625    0.190 0.804 0.911 0.630 0.854"
      ]
     },
     "metadata": {},
     "output_type": "display_data"
    }
   ],
   "source": [
    "round(validation$valid_roc[validation$valid_roc[, \"FPR\"] <= 0.2, ], 3)"
   ]
  },
  {
   "cell_type": "markdown",
   "id": "eaea41a4",
   "metadata": {},
   "source": [
    "Plot ROC curve"
   ]
  },
  {
   "cell_type": "code",
   "execution_count": 24,
   "id": "367c0fdf",
   "metadata": {
    "scrolled": true
   },
   "outputs": [
    {
     "data": {
      "image/png": "[encoded data removed]",
      "text/plain": [
       "plot without title"
      ]
     },
     "metadata": {
      "image/png": {
       "height": 420,
       "width": 420
      }
     },
     "output_type": "display_data"
    }
   ],
   "source": [
    "phecap_plot_roc_curves(validation)"
   ]
  },
  {
   "cell_type": "markdown",
   "id": "9d92cbd3",
   "metadata": {},
   "source": [
    "Which cutoff correspond to FPR closest to 0.05"
   ]
  },
  {
   "cell_type": "code",
   "execution_count": 25,
   "id": "82b31121",
   "metadata": {
    "scrolled": true
   },
   "outputs": [],
   "source": [
    "idx <- which.min(abs(validation$valid_roc[, \"FPR\"] - 0.05))\n",
    "cut.fpr95 <- validation$valid_roc[idx, \"cutoff\"]"
   ]
  },
  {
   "cell_type": "markdown",
   "id": "b236cc8c",
   "metadata": {},
   "source": [
    "Apply the model to all the patients to obtain predicted phenotype"
   ]
  },
  {
   "cell_type": "code",
   "execution_count": 26,
   "id": "1a421c37",
   "metadata": {
    "scrolled": true
   },
   "outputs": [
    {
     "data": {
      "text/html": [
       "<table class=\"dataframe\">\n",
       "<caption>A data.frame: 10 × 3</caption>\n",
       "<thead>\n",
       "\t<tr><th></th><th scope=col>patient_id</th><th scope=col>prediction</th><th scope=col>case_status</th></tr>\n",
       "\t<tr><th></th><th scope=col>&lt;int&gt;</th><th scope=col>&lt;dbl&gt;</th><th scope=col>&lt;dbl&gt;</th></tr>\n",
       "</thead>\n",
       "<tbody>\n",
       "\t<tr><th scope=row>1</th><td> 1</td><td>1.467910e-01</td><td>0</td></tr>\n",
       "\t<tr><th scope=row>2</th><td> 2</td><td>9.999938e-01</td><td>1</td></tr>\n",
       "\t<tr><th scope=row>3</th><td> 3</td><td>1.828879e-01</td><td>0</td></tr>\n",
       "\t<tr><th scope=row>4</th><td> 4</td><td>9.384499e-05</td><td>0</td></tr>\n",
       "\t<tr><th scope=row>5</th><td> 5</td><td>1.649510e-02</td><td>0</td></tr>\n",
       "\t<tr><th scope=row>6</th><td> 6</td><td>9.803657e-01</td><td>1</td></tr>\n",
       "\t<tr><th scope=row>7</th><td> 7</td><td>8.645029e-03</td><td>0</td></tr>\n",
       "\t<tr><th scope=row>8</th><td> 8</td><td>2.602369e-04</td><td>0</td></tr>\n",
       "\t<tr><th scope=row>9</th><td> 9</td><td>3.652225e-01</td><td>0</td></tr>\n",
       "\t<tr><th scope=row>10</th><td>10</td><td>7.273298e-04</td><td>0</td></tr>\n",
       "</tbody>\n",
       "</table>\n"
      ],
      "text/latex": [
       "A data.frame: 10 × 3\n",
       "\\begin{tabular}{r|lll}\n",
       "  & patient\\_id & prediction & case\\_status\\\\\n",
       "  & <int> & <dbl> & <dbl>\\\\\n",
       "\\hline\n",
       "\t1 &  1 & 1.467910e-01 & 0\\\\\n",
       "\t2 &  2 & 9.999938e-01 & 1\\\\\n",
       "\t3 &  3 & 1.828879e-01 & 0\\\\\n",
       "\t4 &  4 & 9.384499e-05 & 0\\\\\n",
       "\t5 &  5 & 1.649510e-02 & 0\\\\\n",
       "\t6 &  6 & 9.803657e-01 & 1\\\\\n",
       "\t7 &  7 & 8.645029e-03 & 0\\\\\n",
       "\t8 &  8 & 2.602369e-04 & 0\\\\\n",
       "\t9 &  9 & 3.652225e-01 & 0\\\\\n",
       "\t10 & 10 & 7.273298e-04 & 0\\\\\n",
       "\\end{tabular}\n"
      ],
      "text/markdown": [
       "\n",
       "A data.frame: 10 × 3\n",
       "\n",
       "| <!--/--> | patient_id &lt;int&gt; | prediction &lt;dbl&gt; | case_status &lt;dbl&gt; |\n",
       "|---|---|---|---|\n",
       "| 1 |  1 | 1.467910e-01 | 0 |\n",
       "| 2 |  2 | 9.999938e-01 | 1 |\n",
       "| 3 |  3 | 1.828879e-01 | 0 |\n",
       "| 4 |  4 | 9.384499e-05 | 0 |\n",
       "| 5 |  5 | 1.649510e-02 | 0 |\n",
       "| 6 |  6 | 9.803657e-01 | 1 |\n",
       "| 7 |  7 | 8.645029e-03 | 0 |\n",
       "| 8 |  8 | 2.602369e-04 | 0 |\n",
       "| 9 |  9 | 3.652225e-01 | 0 |\n",
       "| 10 | 10 | 7.273298e-04 | 0 |\n",
       "\n"
      ],
      "text/plain": [
       "   patient_id prediction   case_status\n",
       "1   1         1.467910e-01 0          \n",
       "2   2         9.999938e-01 1          \n",
       "3   3         1.828879e-01 0          \n",
       "4   4         9.384499e-05 0          \n",
       "5   5         1.649510e-02 0          \n",
       "6   6         9.803657e-01 1          \n",
       "7   7         8.645029e-03 0          \n",
       "8   8         2.602369e-04 0          \n",
       "9   9         3.652225e-01 0          \n",
       "10 10         7.273298e-04 0          "
      ]
     },
     "metadata": {},
     "output_type": "display_data"
    }
   ],
   "source": [
    "phenotype <- phecap_predict_phenotype(data, model)\n",
    "case_status <- ifelse(phenotype$prediction >= cut.fpr95, 1, 0)\n",
    "predict.table <- cbind(phenotype, case_status)\n",
    "predict.table[1:10, ]"
   ]
  },
  {
   "cell_type": "code",
   "execution_count": null,
   "id": "63e768f9",
   "metadata": {},
   "outputs": [],
   "source": []
  }
 ],
 "metadata": {
  "kernelspec": {
   "display_name": "R",
   "language": "R",
   "name": "ir"
  },
  "language_info": {
   "codemirror_mode": "r",
   "file_extension": ".r",
   "mimetype": "text/x-r-source",
   "name": "R",
   "pygments_lexer": "r",
   "version": "4.0.5"
  }
 },
 "nbformat": 4,
 "nbformat_minor": 5
}
